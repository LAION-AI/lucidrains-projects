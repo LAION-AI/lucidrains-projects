{
 "cells": [
  {
   "cell_type": "code",
   "execution_count": 17,
   "metadata": {},
   "outputs": [
    {
     "data": {
      "text/plain": [
       "251"
      ]
     },
     "execution_count": 17,
     "metadata": {},
     "output_type": "execute_result"
    }
   ],
   "source": [
    "import requests\n",
    "from datetime import datetime\n",
    "import base64\n",
    "\n",
    "# Make a GET request to the GitHub API to get all repositories from the user \"lucidrains\"\n",
    "page = 1\n",
    "response = requests.get(f\"https://api.github.com/users/lucidrains/repos?per_page=100&page={page}\")\n",
    "\n",
    "# Extract the JSON data from the response\n",
    "repos = response.json()\n",
    "\n",
    "# Create a list of records with the desired keys\n",
    "records = []\n",
    "while len(repos) > 0:\n",
    "    for repo in repos:\n",
    "        created_at = datetime.strptime(repo[\"created_at\"], \"%Y-%m-%dT%H:%M:%SZ\")\n",
    "        record = {\n",
    "            \"repository-name\": repo[\"name\"],\n",
    "            \"year\": created_at.year,\n",
    "            \"month\": created_at.month,\n",
    "            \"day\": created_at.day,\n",
    "            \"url\": repo[\"html_url\"],\n",
    "            \"description\": repo[\"description\"],\n",
    "        }\n",
    "        # readme_response = requests.get(f\"{repo['url']}/readme\")\n",
    "        # if readme_response.status_code == 200:\n",
    "        #     readme_content = readme_response.json()[\"content\"]\n",
    "        #     record[\"readme-content\"] = base64.b64decode(readme_content).decode(\"utf-8\")\n",
    "        # else:\n",
    "        #     record[\"readme-content\"] = \"README not found\"\n",
    "        records.append(record)\n",
    "    page += 1\n",
    "    response = requests.get(f\"https://api.github.com/users/lucidrains/repos?per_page=100&page={page}\")\n",
    "    repos = response.json()\n",
    "\n",
    "# Print the list of records\n",
    "len(records)"
   ]
  },
  {
   "cell_type": "code",
   "execution_count": 23,
   "metadata": {},
   "outputs": [],
   "source": [
    "# Sort the records based on year, month, and day (from old to new)\n",
    "sorted_records = sorted(records, key=lambda x: (x[\"year\"], x[\"month\"], x[\"day\"]), reverse=True)\n",
    "\n",
    "# Create the markdown table\n",
    "table = \"| Repository Name | Date | Description | Projects |\\n| --- | --- | --- | --- |\\n\"\n",
    "for record in sorted_records:\n",
    "    date_string = datetime(record[\"year\"], record[\"month\"], record[\"day\"]).strftime(\"%d %B, %Y\").lstrip(\"0\").replace(\",th\", \",\")\n",
    "    date_suffix = \"th\" if 11 <= record[\"day\"] <= 13 else {1: \"st\", 2: \"nd\", 3: \"rd\"}.get(record[\"day\"] % 10, \"th\")\n",
    "    date_string = date_string.replace(\" \", f\"{date_suffix} \")\n",
    "    repository_name = f\"[{record['repository-name']}]({record['url']})\"\n",
    "    table += f\"| {repository_name} | {date_string} | {record['description']} ||\\n\"\n",
    "\n",
    "# Print the markdown table\n",
    "file_path = \"README.md\"\n",
    "\n",
    "prepend = '''\n",
    "# :rainbow: lucidrains-projects\n",
    "\n",
    "<p align='center'>\n",
    "  <a href=\"https://discord.gg/xBPBXfcFHd\"><img alt=\"Join us on Discord\" src=\"https://img.shields.io/discord/823813159592001537?color=5865F2&logo=discord&logoColor=white\"></a>\n",
    "<p>\n",
    "\n",
    "This repository gives an overview of the awesome projects created by [lucidrains](https://github.com/lucidrains) that we as LAION want to share with the community\n",
    "in order to help people train new exciting models and do research with SOTA ML code. \n",
    "\n",
    "The whole LAION community started with crawling@home that became LAION-400M and later evolved into LAION-5B and at the same time lucidrains' awesome repository [DALLE-pytorch](https://github.com/lucidrains/DALLE-pytorch),\n",
    "a replication of OpenAI's Dall-E model, that became more and more popular as we trained on CC-3m and CC-12m datasets and later on LAION-400M.\n",
    "\n",
    "We are very thankful for the great work of lucidrains!\n",
    "\n",
    "## Projects\n",
    "\n",
    "'''\n",
    "\n",
    "with open(file_path, \"w\") as f:\n",
    "    f.write(prepend)\n",
    "    f.write(table)"
   ]
  }
 ],
 "metadata": {
  "kernelspec": {
   "display_name": "base",
   "language": "python",
   "name": "python3"
  },
  "language_info": {
   "codemirror_mode": {
    "name": "ipython",
    "version": 3
   },
   "file_extension": ".py",
   "mimetype": "text/x-python",
   "name": "python",
   "nbconvert_exporter": "python",
   "pygments_lexer": "ipython3",
   "version": "3.8.11"
  },
  "orig_nbformat": 4
 },
 "nbformat": 4,
 "nbformat_minor": 2
}
